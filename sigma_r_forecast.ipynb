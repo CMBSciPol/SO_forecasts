{
 "cells": [
  {
   "cell_type": "markdown",
   "id": "66769ac3",
   "metadata": {},
   "source": [
    "# Forecasting σ(r) vs Observation Time\n",
    "\n",
    "This notebook estimates the uncertainty on the tensor-to-scalar ratio, $\\sigma(r)$, as a function of observation time for a CMB experiment like Simons Observatory. \n",
    "It uses per-band NETs and foreground modeling via `fgbuster`.\n",
    "\n",
    "*Author: SciPol project – CNRS / APC*\n"
   ]
  },
  {
   "cell_type": "code",
   "execution_count": 31,
   "id": "7a92f59f",
   "metadata": {},
   "outputs": [],
   "source": [
    "import numpy as np\n",
    "import matplotlib.pyplot as plt\n",
    "from scipy.linalg import inv\n",
    "import camb\n",
    "from camb import model, initialpower\n",
    "from fgbuster import MixingMatrix, CMB, Dust, Synchrotron\n",
    "import pylab as pl"
   ]
  },
  {
   "cell_type": "code",
   "execution_count": 32,
   "id": "42dbc4b3",
   "metadata": {},
   "outputs": [],
   "source": [
    "deg2rad = np.pi / 180\n",
    "arcmin2sr = (deg2rad / 60)**2\n",
    "\n",
    "def NET_to_uK_arcmin(NET_uKsqrtsec, N_det, t_obs_years, fsky, efficiency):\n",
    "    t_obs_sec = t_obs_years * 365.25 * 24 * 3600 * efficiency\n",
    "    area_sr = 4 * np.pi * fsky\n",
    "    area_arcmin2 = area_sr / arcmin2sr\n",
    "    uK_arcmin = []\n",
    "    for NET, ndet in zip(NET_uKsqrtsec, N_det):\n",
    "        sigma_pix = NET / np.sqrt(ndet * t_obs_sec)\n",
    "        noise = sigma_pix * np.sqrt(area_arcmin2)\n",
    "        uK_arcmin.append(noise)\n",
    "    return uK_arcmin"
   ]
  },
  {
   "cell_type": "code",
   "execution_count": 33,
   "id": "5a3ee240",
   "metadata": {},
   "outputs": [],
   "source": [
    "def generate_theory_cls_with_camb(lmax=3000):\n",
    "    pars_r1 = camb.CAMBparams()\n",
    "    pars_r1.set_cosmology(H0=67.5, ombh2=0.022, omch2=0.122)\n",
    "    pars_r1.InitPower.set_params(As=2e-9, ns=0.965, r=1.0)\n",
    "    pars_r1.set_for_lmax(lmax, lens_potential_accuracy=1)\n",
    "    pars_r1.WantTensors = True\n",
    "    results_r1 = camb.get_results(pars_r1)\n",
    "    cls_r1 = results_r1.get_cmb_power_spectra(pars_r1, CMB_unit='muK', lmax=lmax)\n",
    "    cl_bb_r1 = cls_r1['tensor'][2:, 2]\n",
    "\n",
    "    pars_lens = camb.CAMBparams()\n",
    "    pars_lens.set_cosmology(H0=67.5, ombh2=0.022, omch2=0.122)\n",
    "    pars_lens.InitPower.set_params(As=2e-9, ns=0.965, r=0.0)\n",
    "    pars_lens.set_for_lmax(lmax, lens_potential_accuracy=1)\n",
    "    pars_lens.WantTensors = False\n",
    "    results_lens = camb.get_results(pars_lens)\n",
    "    cls_lens = results_lens.get_cmb_power_spectra(pars_lens, CMB_unit='muK', lmax=lmax)\n",
    "    cl_bb_lens = cls_lens['lensed_scalar'][2:, 2]\n",
    "\n",
    "    ell_cls = np.arange(2, lmax + 1)\n",
    "    norm = ell_cls*(ell_cls+1)/2/np.pi\n",
    "    return ell_cls, cl_bb_r1/norm, cl_bb_lens/norm"
   ]
  },
  {
   "cell_type": "code",
   "execution_count": 34,
   "id": "7454f1c6",
   "metadata": {},
   "outputs": [
    {
     "data": {
      "image/png": "[encoded data removed]",
      "text/plain": [
       "<Figure size 432x288 with 1 Axes>"
      ]
     },
     "metadata": {
      "needs_background": "light"
     },
     "output_type": "display_data"
    }
   ],
   "source": [
    "a = generate_theory_cls_with_camb(lmax=3000)\n",
    "pl.loglog(a[0], a[1]*1e-3)\n",
    "pl.loglog(a[0], a[2])\n",
    "pl.show()"
   ]
  },
  {
   "cell_type": "code",
   "execution_count": 35,
   "id": "c6d80e1f",
   "metadata": {},
   "outputs": [],
   "source": [
    "def simulate_noise_spectra_multiband(ell, config):\n",
    "    \"\"\"\n",
    "    Simulate N_ell for each band with its own white noise, alpha, and ell_knee.\n",
    "    config = list of dicts with keys: freq, N_white, alpha, ell_knee\n",
    "    Returns: dict {freq: N_ell}\n",
    "    \"\"\"\n",
    "    noise_dict = {}\n",
    "    for band in config:\n",
    "        N_white = band['N_white']  # in μK².arcmin, convert to μK².rad\n",
    "        alpha = band['alpha']\n",
    "        ell_knee = band['ell_knee']\n",
    "        N_white_rad = (N_white * np.pi / (180 * 60))**2\n",
    "        residual = N_white_rad * (ell_knee / (ell + 1e-3))**alpha\n",
    "        N_ell = N_white_rad + residual\n",
    "        W_ell = beam_window_function(ell, band['beam_fwhm'])\n",
    "        noise_dict[band['freq']] = N_ell/W_ell**2\n",
    "    return noise_dict"
   ]
  },
  {
   "cell_type": "code",
   "execution_count": 40,
   "id": "6b9a6f45",
   "metadata": {},
   "outputs": [],
   "source": [
    "def beam_window_function(ell, fwhm_arcmin):\n",
    "    \"\"\"Gaussian beam window function.\"\"\"\n",
    "    sigma_rad = (fwhm_arcmin / np.sqrt(8 * np.log(2))) * deg2rad / 60\n",
    "    return np.exp(-ell * (ell + 1) * sigma_rad**2)"
   ]
  },
  {
   "cell_type": "code",
   "execution_count": 36,
   "id": "7c21df6f",
   "metadata": {},
   "outputs": [],
   "source": [
    "def get_mixing_matrix(frequencies, T_dust=19.6, beta_d=1.54, beta_s=-3.0):\n",
    "    \"\"\"\n",
    "    Create fgbuster mixing matrix with CMB, dust and synchrotron.\n",
    "    Frequencies in GHz.\n",
    "    \"\"\"\n",
    "    components = [\n",
    "        CMB(),\n",
    "        Dust(150., temp=T_dust, beta_d=beta_d),\n",
    "        Synchrotron(30., beta_pl=beta_s)\n",
    "    ]\n",
    "    A = MixingMatrix(*components)\n",
    "    return  A.evaluator(np.array(frequencies))()  # shape (n_freq, n_comp)"
   ]
  },
  {
   "cell_type": "code",
   "execution_count": 37,
   "id": "72d7c307",
   "metadata": {},
   "outputs": [],
   "source": [
    "def compute_effective_noise_multicomponent(ell, noise_dict, mixing_matrix, comp_index=0):\n",
    "    \"\"\"\n",
    "    Combine multi-band noise through projection onto CMB component.\n",
    "    mixing_matrix: shape (n_freq, n_comp)\n",
    "    \"\"\"\n",
    "    n_freq, n_comp = mixing_matrix.shape\n",
    "    freqs = list(noise_dict.keys())\n",
    "    assert len(freqs) == n_freq\n",
    "\n",
    "    N_ell_matrix = np.array([noise_dict[freq] for freq in freqs])  # shape (n_freq, n_ell)\n",
    "    N_eff = []\n",
    "    \n",
    "    for i in range(len(ell)):\n",
    "        N_cov = np.diag(N_ell_matrix[:, i])  # diagonal, uncorrelated noise\n",
    "        A = mixing_matrix\n",
    "        AtNiA = A.T @ np.linalg.inv(N_cov) @ A\n",
    "        N_proj = np.linalg.inv(AtNiA)[comp_index, comp_index]  # [0,0] is CMB component\n",
    "        N_eff.append(N_proj)\n",
    "        \n",
    "    return np.array(N_eff)"
   ]
  },
  {
   "cell_type": "code",
   "execution_count": 38,
   "id": "61475c47",
   "metadata": {},
   "outputs": [],
   "source": [
    "def compute_fisher_sigma_r(ell, cl_r1, cl_lens, N_ell_eff, include_alens=True):\n",
    "    valid = (ell >= 30) & (ell <= 300)\n",
    "    ell = ell[valid]\n",
    "    C_ell = cl_r1[valid] * 0.01 + cl_lens[valid] + N_ell_eff[valid]\n",
    "    dCl_dr = cl_r1[valid]\n",
    "    dCl_dAlens = cl_lens[valid] if include_alens else None\n",
    "    param_list = ['r']\n",
    "    derivs = [dCl_dr]\n",
    "    if include_alens:\n",
    "        param_list.append('Alens')\n",
    "        derivs.append(dCl_dAlens)\n",
    "    nparams = len(param_list)\n",
    "    F = np.zeros((nparams, nparams))\n",
    "    for i in range(nparams):\n",
    "        for j in range(nparams):\n",
    "            F[i, j] = np.sum((2 * ell + 1) * derivs[i] * derivs[j] / (2 * C_ell)**2)\n",
    "    cov = np.linalg.inv(F)\n",
    "    r_index = param_list.index('r')\n",
    "    return np.sqrt(cov[r_index, r_index])"
   ]
  },
  {
   "cell_type": "code",
   "execution_count": 42,
   "id": "e33f9086",
   "metadata": {},
   "outputs": [],
   "source": [
    "def compute_fisher_matrix(ell, cl_r1, cl_lens, n_ell_bb, \n",
    "                          ell_min=30, ell_max=300, fsky=0.1, true_r=0.0,\n",
    "                          include_alens=True, true_Al=1.0, extra_templates=None):\n",
    "    \"\"\"\n",
    "    Compute Fisher matrix for r and optionally Alens and other templates.\n",
    "    extra_templates: list of (name, dCl_dparam) derivatives of C_ell^BB\n",
    "    \"\"\"\n",
    "    N_ell_eff = n_ell_bb * 1.0\n",
    "    valid = (ell >= ell_min) & (ell <= ell_max)\n",
    "    ell = ell[valid]\n",
    "    \n",
    "    # C_ell = np.outer(np.ones_like(ell), cl_lens[valid]) + np.outer(np.ones_like(ell), cl_r1[valid]) * 0.00 + N_ell_eff[valid]\n",
    "    C_ell = cl_lens[valid] * true_Al + N_ell_eff[valid] +  cl_r1[valid] * true_r\n",
    "    \n",
    "    # Derivatives\n",
    "    dCl_dr = cl_r1[valid]\n",
    "    dCl_dAlens = cl_lens[valid] if include_alens else None\n",
    "    \n",
    "    # Fisher matrix\n",
    "    param_list = ['r']\n",
    "    derivs = [dCl_dr]\n",
    "    \n",
    "    if include_alens:\n",
    "        param_list.append('Alens')\n",
    "        derivs.append(dCl_dAlens)\n",
    "        \n",
    "    if extra_templates:\n",
    "        for name, dCl in extra_templates:\n",
    "            param_list.append(name)\n",
    "            derivs.append(dCl[valid])\n",
    "    \n",
    "    nparams = len(param_list)\n",
    "    F = np.zeros((nparams, nparams))\n",
    "    \n",
    "    for i in range(nparams):\n",
    "        for j in range(nparams):\n",
    "            dCi = derivs[i]\n",
    "            dCj = derivs[j]\n",
    "            F[i, j] = np.sum((2 * ell + 1) * fsky * dCi * dCj / (2 * C_ell)**2)\n",
    "\n",
    "    return F, param_list\n",
    "\n",
    "def estimate_sigma_r(fisher_matrix, param_list):\n",
    "    \"\"\"Return marginalized sigma(r) from Fisher matrix.\"\"\"\n",
    "    cov = inv(fisher_matrix)\n",
    "    r_index = param_list.index('r')\n",
    "    return np.sqrt(cov[r_index, r_index])"
   ]
  },
  {
   "cell_type": "code",
   "execution_count": 43,
   "id": "2f678a36",
   "metadata": {},
   "outputs": [
    {
     "data": {
      "image/png": "[encoded data removed]",
      "text/plain": [
       "<Figure size 576x360 with 1 Axes>"
      ]
     },
     "metadata": {
      "needs_background": "light"
     },
     "output_type": "display_data"
    }
   ],
   "source": [
    "times = np.linspace(0.1, 10, 20)\n",
    "fsky = 0.1\n",
    "freqs = [27, 39, 93, 145, 225, 280]\n",
    "NETs = [21, 13, 3.4, 4.3, 8.6, 22] # uK.rs per tube \n",
    "Ndets = [1,1,2,2,1,1]# actual number of tubes ... #[3500, 3500, 6000, 6000, 2000, 1000]\n",
    "ell = np.arange(30, 300)\n",
    "ell_knees = [40, 50, 20, 30, 40, 50]\n",
    "alphas = [3.0, 2.7, 2.4, 2.6, 3.0, 3.2]\n",
    "beam_fwhm = [91., 63., 30., 17., 11., 9.]\n",
    "true_Al = 0.5\n",
    "efficiency = 0.8 \n",
    "true_r=0.\n",
    "ell_min,ell_max= 30,300\n",
    "\n",
    "ell_cls, cl_r1_raw, cl_lens_raw = generate_theory_cls_with_camb()\n",
    "cl_r1 = np.interp(ell, ell_cls, cl_r1_raw)\n",
    "cl_lens = np.interp(ell, ell_cls, cl_lens_raw)\n",
    "\n",
    "A = get_mixing_matrix([band for band in freqs])\n",
    "\n",
    "sigma_r_list = []\n",
    "\n",
    "for t in times:\n",
    "    uK_arcmin = NET_to_uK_arcmin(NETs, Ndets, t_obs_years=t, fsky=fsky, efficiency=efficiency)\n",
    "    config = [{\"freq\": freqs[i],  \"N_white\": uK_arcmin[i], \"alpha\": alphas[i], \"ell_knee\": ell_knees[i], \"beam_fwhm\":beam_fwhm[i]} for i in range(len(freqs))]\n",
    "    noise_dict = simulate_noise_spectra_multiband(ell, config)\n",
    "    N_ell_eff = compute_effective_noise_multicomponent(ell, noise_dict, A, comp_index=0)\n",
    "    F, params = compute_fisher_matrix(ell, cl_r1, cl_lens, N_ell_eff, \n",
    "                      ell_min=ell_min, ell_max=ell_max, fsky=fsky, true_r=true_r,\n",
    "                      include_alens=True, true_Al=1.0, extra_templates=None)\n",
    "    sigma_r_list.append( estimate_sigma_r(F, params) )\n",
    "\n",
    "\n",
    "pl.figure(figsize=(8, 5))\n",
    "pl.plot(times, sigma_r_list, marker='o')\n",
    "pl.xlabel(\"Observation time [years]\")\n",
    "pl.ylabel(r\"$\\sigma(r)$ (marg. over $A_\\mathrm{lens}$)\")\n",
    "pl.yscale(\"log\")\n",
    "pl.grid(True)\n",
    "pl.title(\"Forecasted $\\sigma(r)$ vs Observation Time\")\n",
    "pl.tight_layout()\n",
    "pl.show()\n"
   ]
  },
  {
   "cell_type": "code",
   "execution_count": null,
   "id": "b0d90a76",
   "metadata": {},
   "outputs": [],
   "source": []
  },
  {
   "cell_type": "code",
   "execution_count": null,
   "id": "3aa76273",
   "metadata": {},
   "outputs": [],
   "source": []
  }
 ],
 "metadata": {
  "kernelspec": {
   "display_name": "Python 3",
   "language": "python",
   "name": "python3"
  },
  "language_info": {
   "codemirror_mode": {
    "name": "ipython",
    "version": 3
   },
   "file_extension": ".py",
   "mimetype": "text/x-python",
   "name": "python",
   "nbconvert_exporter": "python",
   "pygments_lexer": "ipython3",
   "version": "3.7.6"
  }
 },
 "nbformat": 4,
 "nbformat_minor": 5
}
